{
 "cells": [
  {
   "cell_type": "code",
   "execution_count": 2,
   "metadata": {},
   "outputs": [
    {
     "name": "stderr",
     "output_type": "stream",
     "text": [
      "Using TensorFlow backend.\n"
     ]
    }
   ],
   "source": [
    "import os\n",
    "import sys\n",
    "import random\n",
    "import math\n",
    "import re\n",
    "import time\n",
    "import numpy as np\n",
    "import cv2\n",
    "import matplotlib\n",
    "import matplotlib.pyplot as plt\n",
    "\n",
    "# Root directory of the project\n",
    "ROOT_DIR = os.path.abspath(\"../../\")\n",
    "\n",
    "# Import Mask RCNN\n",
    "sys.path.append(ROOT_DIR)  # To find local version of the library\n",
    "from mrcnn.config import Config\n",
    "from mrcnn import utils\n",
    "import mrcnn.model as modellib\n",
    "from mrcnn import visualize\n",
    "from mrcnn.model import log\n",
    "\n",
    "%matplotlib inline \n",
    "\n",
    "# Directory to save logs and trained model\n",
    "MODEL_DIR = os.path.join(ROOT_DIR, \"logs\")\n",
    "\n",
    "# Local path to trained weights file\n",
    "COCO_MODEL_PATH = os.path.join(ROOT_DIR, \"mask_rcnn_coco.h5\")\n",
    "# Download COCO trained weights from Releases if needed\n",
    "if not os.path.exists(COCO_MODEL_PATH):\n",
    "    utils.download_trained_weights(COCO_MODEL_PATH)"
   ]
  },
  {
   "cell_type": "code",
   "execution_count": 4,
   "metadata": {},
   "outputs": [
    {
     "name": "stdout",
     "output_type": "stream",
     "text": [
      "\n",
      "Configurations:\n",
      "BACKBONE                       resnet101\n",
      "BACKBONE_STRIDES               [4, 8, 16, 32, 64]\n",
      "BATCH_SIZE                     8\n",
      "BBOX_STD_DEV                   [0.1 0.1 0.2 0.2]\n",
      "COMPUTE_BACKBONE_SHAPE         None\n",
      "DETECTION_MAX_INSTANCES        100\n",
      "DETECTION_MIN_CONFIDENCE       0.7\n",
      "DETECTION_NMS_THRESHOLD        0.3\n",
      "FPN_CLASSIF_FC_LAYERS_SIZE     1024\n",
      "GPU_COUNT                      1\n",
      "GRADIENT_CLIP_NORM             5.0\n",
      "IMAGES_PER_GPU                 8\n",
      "IMAGE_CHANNEL_COUNT            3\n",
      "IMAGE_MAX_DIM                  128\n",
      "IMAGE_META_SIZE                20\n",
      "IMAGE_MIN_DIM                  128\n",
      "IMAGE_MIN_SCALE                0\n",
      "IMAGE_RESIZE_MODE              square\n",
      "IMAGE_SHAPE                    [128 128   3]\n",
      "LEARNING_MOMENTUM              0.9\n",
      "LEARNING_RATE                  0.001\n",
      "LOSS_WEIGHTS                   {'rpn_class_loss': 1.0, 'rpn_bbox_loss': 1.0, 'mrcnn_class_loss': 1.0, 'mrcnn_bbox_loss': 1.0, 'mrcnn_mask_loss': 1.0}\n",
      "MASK_POOL_SIZE                 14\n",
      "MASK_SHAPE                     [28, 28]\n",
      "MAX_GT_INSTANCES               100\n",
      "MEAN_PIXEL                     [123.7 116.8 103.9]\n",
      "MINI_MASK_SHAPE                (56, 56)\n",
      "NAME                           shapes\n",
      "NUM_CLASSES                    8\n",
      "POOL_SIZE                      7\n",
      "POST_NMS_ROIS_INFERENCE        1000\n",
      "POST_NMS_ROIS_TRAINING         2000\n",
      "PRE_NMS_LIMIT                  6000\n",
      "ROI_POSITIVE_RATIO             0.33\n",
      "RPN_ANCHOR_RATIOS              [0.5, 1, 2]\n",
      "RPN_ANCHOR_SCALES              (8, 16, 32, 64, 128)\n",
      "RPN_ANCHOR_STRIDE              1\n",
      "RPN_BBOX_STD_DEV               [0.1 0.1 0.2 0.2]\n",
      "RPN_NMS_THRESHOLD              0.7\n",
      "RPN_TRAIN_ANCHORS_PER_IMAGE    256\n",
      "STEPS_PER_EPOCH                100\n",
      "TOP_DOWN_PYRAMID_SIZE          256\n",
      "TRAIN_BN                       False\n",
      "TRAIN_ROIS_PER_IMAGE           32\n",
      "USE_MINI_MASK                  True\n",
      "USE_RPN_ROIS                   True\n",
      "VALIDATION_STEPS               5\n",
      "WEIGHT_DECAY                   0.0001\n",
      "\n",
      "\n"
     ]
    }
   ],
   "source": [
    "class ShapesConfig(Config):\n",
    "    \"\"\"Configuration for training on the toy shapes dataset.\n",
    "    Derives from the base Config class and overrides values specific\n",
    "    to the toy shapes dataset.\n",
    "    \"\"\"\n",
    "    # Give the configuration a recognizable name\n",
    "    NAME = \"shapes\"\n",
    "\n",
    "    # Train on 1 GPU and 8 images per GPU. We can put multiple images on each\n",
    "    # GPU because the images are small. Batch size is 8 (GPUs * images/GPU).\n",
    "    GPU_COUNT = 1\n",
    "    IMAGES_PER_GPU = 8\n",
    "\n",
    "    # Number of classes (including background)\n",
    "    NUM_CLASSES = 1 + 7  # background + 3 shapes\n",
    "\n",
    "    # Use small images for faster training. Set the limits of the small side\n",
    "    # the large side, and that determines the image shape.\n",
    "    IMAGE_MIN_DIM = 128\n",
    "    IMAGE_MAX_DIM = 128\n",
    "\n",
    "    # Use smaller anchors because our image and objects are small\n",
    "    RPN_ANCHOR_SCALES = (8, 16, 32, 64, 128)  # anchor side in pixels\n",
    "\n",
    "    # Reduce training ROIs per image because the images are small and have\n",
    "    # few objects. Aim to allow ROI sampling to pick 33% positive ROIs.\n",
    "    TRAIN_ROIS_PER_IMAGE = 32\n",
    "\n",
    "    # Use a small epoch since the data is simple\n",
    "    STEPS_PER_EPOCH = 100\n",
    "\n",
    "    # use small validation steps since the epoch is small\n",
    "    VALIDATION_STEPS = 5\n",
    "    \n",
    "config = ShapesConfig()\n",
    "config.display()"
   ]
  },
  {
   "cell_type": "code",
   "execution_count": 83,
   "metadata": {},
   "outputs": [],
   "source": [
    "import numpy as np\n",
    "def whiten(X, method='zca'):\n",
    "    \"\"\"\n",
    "    https://gist.github.com/joelouismarino/ce239b5601fff2698895f48003f7464b\n",
    "    Whitens the input matrix X using specified whitening method.\n",
    "    Inputs:\n",
    "        X:      Input data matrix with data examples along the first dimension\n",
    "        method: Whitening method. Must be one of 'zca', 'zca_cor', 'pca',\n",
    "                'pca_cor', or 'cholesky'.\n",
    "    \"\"\"\n",
    "    X = X.reshape((-1, np.prod(X.shape[1:])))\n",
    "    X_centered = X - np.mean(X, axis=0)\n",
    "    Sigma = np.dot(X_centered.T, X_centered) / X_centered.shape[0]\n",
    "    W = None\n",
    "    if method in ['zca', 'pca', 'cholesky']:\n",
    "        U, Lambda, _ = np.linalg.svd(Sigma)\n",
    "    if method == 'zca':\n",
    "        W = np.dot(U, np.dot(np.diag(1.0 / np.sqrt(Lambda + 1e-2)), U.T))\n",
    "    elif method =='pca':\n",
    "        W = np.dot(np.diag(1.0 / np.sqrt(Lambda + 1e-5)), U.T)\n",
    "    elif method == 'cholesky':\n",
    "        W = np.linalg.cholesky(np.dot(U, np.dot(np.diag(1.0 / (Lambda + 1e-5)), U.T))).T\n",
    "    elif method in ['zca_cor', 'pca_cor']:\n",
    "        V_sqrt = np.diag(np.std(X, axis=0))\n",
    "        P = np.dot(np.dot(np.linalg.inv(V_sqrt), Sigma), np.linalg.inv(V_sqrt))\n",
    "        G, Theta, _ = np.linalg.svd(P)\n",
    "    if method == 'zca_cor':\n",
    "        W = np.dot(np.dot(G, np.dot(np.diag(1.0 / np.sqrt(Theta + 1e-5)), G.T)), V_sqrt)\n",
    "    elif method == 'pca_cor':\n",
    "        W = np.dot(np.dot(np.diag(1.0/np.sqrt(Theta + 1e-5)), G.T), V_sqrt)\n",
    "    return np.dot(X_centered, W.T)"
   ]
  },
  {
   "cell_type": "code",
   "execution_count": 125,
   "metadata": {},
   "outputs": [],
   "source": [
    "#https://stackoverflow.com/questions/22937589/how-to-add-noise-gaussian-salt-and-pepper-etc-to-image-in-python-with-opencv\n",
    "import numpy as np\n",
    "import os\n",
    "import cv2\n",
    "def noisy(noise_typ,image):\n",
    "    if noise_typ == \"gauss\":\n",
    "        row,col = image.shape\n",
    "        mean = 0\n",
    "        var = 0.1\n",
    "        sigma = var**0.5\n",
    "        gauss = np.random.normal(mean,sigma,(row,col))\n",
    "        gauss = gauss.reshape(row,col)\n",
    "        noisy = image + gauss\n",
    "        return noisy\n",
    "    elif noise_typ == \"s&p\":\n",
    "        row,col = image.shape\n",
    "        s_vs_p = 0.5\n",
    "        amount = 0.004\n",
    "        out = np.copy(image)\n",
    "        # Salt mode\n",
    "        num_salt = np.ceil(amount * image.size * s_vs_p)\n",
    "        coords = [np.random.randint(0, i - 1, int(num_salt))\n",
    "              for i in image.shape]\n",
    "        out[coords] = 1\n",
    "\n",
    "      # Pepper mode\n",
    "        num_pepper = np.ceil(amount* image.size * (1. - s_vs_p))\n",
    "        coords = [np.random.randint(0, i - 1, int(num_pepper))\n",
    "              for i in image.shape]\n",
    "        out[coords] = 0\n",
    "        return out\n",
    "    elif noise_typ == \"poisson\":\n",
    "        vals = len(np.unique(image))\n",
    "        vals = 2 ** np.ceil(np.log2(vals))\n",
    "        noisy = np.random.poisson(image * vals) / float(vals)\n",
    "        return noisy\n",
    "    elif noise_typ ==\"speckle\":\n",
    "        row,col,ch = image.shape\n",
    "        gauss = np.random.randn(row,col,ch)\n",
    "        gauss = gauss.reshape(row,col,ch)        \n",
    "        noisy = image + image * gauss\n",
    "        return noisy"
   ]
  },
  {
   "cell_type": "code",
   "execution_count": 126,
   "metadata": {},
   "outputs": [],
   "source": [
    "def draw_shape(image, shape, dims):\n",
    "    \"\"\"Draws a shape from the given specs.\"\"\"\n",
    "    # Get the center x, y and the size s\n",
    "    x, y, s = dims\n",
    "    if shape == 'square':\n",
    "        cv2.rectangle(image, (x, y), (x+s, y+s), -1)\n",
    "    elif shape == \"circle\":\n",
    "        cv2.circle(image, (x, y), s, -1)\n",
    "    elif shape == \"triangle\":\n",
    "        x=random.randint(0,100)\n",
    "        y=random.randint(0,100)\n",
    "        s=random.randint(0,100)\n",
    "        cv2.line(image,(x,y),(y,s),-1)\n",
    "        cv2.line(image,(y,s),(s,x),-1)\n",
    "        cv2.line(image,(s,x),(x,y),-1)\n",
    "    elif shape == \"plus\":\n",
    "        s=random.randint(5,min(100-x,100-y,2*y))\n",
    "        cv2.line(image,(x,y),(x+s,y),-1)\n",
    "        cv2.line(image,(int(x+s/2),int(y-s/2)),(int(x+s/2),int(y+s/2)),-1)\n",
    "    elif shape == \"dot\":\n",
    "        s=random.randint(1,5)\n",
    "        cv2.circle(image, (x, y), s,(0,0,255), -1)\n",
    "    elif shape == \"curve\":\n",
    "        a=random.randint(1,5)*0.1\n",
    "        b=random.randint(5,50)\n",
    "        c=random.randint(0,100-2*b)\n",
    "        x=np.arange(100)\n",
    "        y=np.sin(a*x)\n",
    "        pts=[]\n",
    "        if random.randint(1,2)==1:\n",
    "            for i in range (0,100):\n",
    "                pts.append([x[i],int(b*y[i]+b+c)])\n",
    "        else:\n",
    "            for i in range (0,100):\n",
    "                pts.append([int(b*y[i]+b+c),x[i]])\n",
    "        line_width=random.randint(1,3)\n",
    "        cv2.polylines(image, [np.array(pts)], False, (0,0,255),thickness=line_width, lineType=cv2.LINE_8)\n",
    "    elif shape == \"line\":\n",
    "        s=random.randint(5,min(100-x,100-y,2*y))\n",
    "        if random.randint(1,2)==1:\n",
    "            cv2.line(image,(x,y),(x+s,y),-1)\n",
    "        else:\n",
    "            cv2.line(image,(int(x+s/2),int(y-s/2)),(int(x+s/2),int(y+s/2)),-1)        \n",
    "    return noisy(\"gauss\", whiten(image, method='zca'))"
   ]
  },
  {
   "cell_type": "code",
   "execution_count": 127,
   "metadata": {},
   "outputs": [
    {
     "data": {
      "text/plain": [
       "array([[ 4.05657916e-01,  1.87922380e-01,  3.45130523e-01, ...,\n",
       "         6.56182861e-01,  1.52135838e-01, -7.50449986e-02],\n",
       "       [ 2.00697111e-02, -3.89432876e-01,  6.88211286e-01, ...,\n",
       "         9.74819350e-02, -6.79324368e-04,  1.19331414e-01],\n",
       "       [-1.67320172e-01, -3.11828974e-01, -1.45787164e-01, ...,\n",
       "         3.03719543e-02, -2.26829277e-01,  1.27938833e-01],\n",
       "       ...,\n",
       "       [ 6.55366866e-01,  1.21404015e-01,  1.34077392e-01, ...,\n",
       "         1.08331781e-01,  8.24612504e-02, -7.60794698e-01],\n",
       "       [ 3.37037626e-01,  1.00324383e-01, -4.24894953e-01, ...,\n",
       "         5.09450864e-01,  2.01377732e-01,  3.32080471e-01],\n",
       "       [ 2.22412718e-01,  2.30212621e-01,  1.66591342e-02, ...,\n",
       "        -2.38399305e-01, -1.69028928e-01,  2.67301597e-01]])"
      ]
     },
     "execution_count": 127,
     "metadata": {},
     "output_type": "execute_result"
    }
   ],
   "source": [
    "width=100\n",
    "highth=100\n",
    "x=random.randint(5,width-5)\n",
    "y=random.randint(5,highth-5)\n",
    "s=random.randint(5,np.minimum(width-x,highth-y))\n",
    "dims=[x,y,s]\n",
    "image = np.ones([highth,width])\n",
    "draw_shape(image, 'circle',dims)\n"
   ]
  },
  {
   "cell_type": "code",
   "execution_count": 128,
   "metadata": {},
   "outputs": [
    {
     "data": {
      "text/plain": [
       "(-0.5, 99.5, 99.5, -0.5)"
      ]
     },
     "execution_count": 128,
     "metadata": {},
     "output_type": "execute_result"
    },
    {
     "data": {
      "image/png": "[encoded data removed]",
      "text/plain": [
       "<Figure size 432x288 with 1 Axes>"
      ]
     },
     "metadata": {
      "needs_background": "light"
     },
     "output_type": "display_data"
    }
   ],
   "source": [
    "import os\n",
    "import sys\n",
    "import random\n",
    "import math\n",
    "import re\n",
    "import time\n",
    "import numpy as np\n",
    "import cv2\n",
    "import matplotlib\n",
    "import matplotlib.pyplot as plt\n",
    "width=100\n",
    "highth=100\n",
    "x=random.randint(5,width-5)\n",
    "y=random.randint(5,highth-5)\n",
    "s=random.randint(5,np.minimum(width-x,highth-y))\n",
    "dims=[x,y,s]\n",
    "image = np.ones([highth,width])\n",
    "shape = random.choice([\"square\", \"circle\", \"triangle\", \"line\", \"curve\", \"dot\", \"plus\"])\n",
    "draw_shape(image,shape, dims)\n",
    "plt.imshow(image,cmap='gray')\n",
    "plt.axis('off')"
   ]
  },
  {
   "cell_type": "code",
   "execution_count": 16,
   "metadata": {},
   "outputs": [],
   "source": [
    "import os\n",
    "import sys\n",
    "import random\n",
    "import math\n",
    "import re\n",
    "import time\n",
    "import numpy as np\n",
    "import cv2\n",
    "import matplotlib\n",
    "import matplotlib.pyplot as plt\n",
    "\n",
    "# Root directory of the project\n",
    "ROOT_DIR = os.path.abspath(\"../../\")\n",
    "\n",
    "# Import Mask RCNN\n",
    "sys.path.append(ROOT_DIR)  # To find local version of the library\n",
    "from mrcnn.config import Config\n",
    "from mrcnn import utils\n",
    "import mrcnn.model as modellib\n",
    "from mrcnn import visualize\n",
    "from mrcnn.model import log\n",
    "\n",
    "%matplotlib inline \n",
    "\n",
    "# Directory to save logs and trained model\n",
    "MODEL_DIR = os.path.join(ROOT_DIR, \"logs\")\n",
    "\n",
    "# Local path to trained weights file\n",
    "COCO_MODEL_PATH = os.path.join(ROOT_DIR, \"mask_rcnn_coco.h5\")\n",
    "# Download COCO trained weights from Releases if needed\n",
    "if not os.path.exists(COCO_MODEL_PATH):\n",
    "    utils.download_trained_weights(COCO_MODEL_PATH)"
   ]
  },
  {
   "cell_type": "code",
   "execution_count": 62,
   "metadata": {},
   "outputs": [],
   "source": [
    "# class ShapesDataset(utils.Dataset):\n",
    "#     \"\"\"Generates the shapes synthetic dataset. The dataset consists of simple\n",
    "#     shapes (triangles, squares, circles) placed randomly on a blank surface.\n",
    "#     The images are generated on the fly. No file access required.\n",
    "#     \"\"\"\n",
    "\n",
    "#     def load_shapes(self, count, heighth, width):\n",
    "#         \"\"\"Generate the requested number of synthetic images.\n",
    "#         count: number of images to generate.\n",
    "#         height, width: the size of the generated images.\n",
    "#         \"\"\"\n",
    "#         # Add classes\n",
    "#         self.add_class(\"shapes\", 1, \"square\")\n",
    "#         self.add_class(\"shapes\", 2, \"circle\")\n",
    "#         self.add_class(\"shapes\", 3, \"triangle\")\n",
    "#         self.add_class(\"shapes\", 4, \"plus\")\n",
    "#         self.add_class(\"shapes\", 5, \"dot\")\n",
    "#         self.add_class(\"shapes\", 6, \"curve\")  \n",
    "#         self.add_class(\"shapes\", 7, \"line\") \n",
    "        \n",
    "#         for i in range(count):\n",
    "#             shapes = self.random_image(heighth, width)\n",
    "#             self.add_image(\"shapes\", image_id=i, path=None,\n",
    "#                    width=width, heighth=heighth, shapes=shapes)\n",
    "#     def load_image(self, image_id):\n",
    "#         \"\"\"Generate an image from the specs of the given image ID.\n",
    "#         Typically this function loads the image from a file, but\n",
    "#         in this case it generates the image on the fly from the\n",
    "#         specs in image_info.\n",
    "#         \"\"\"\n",
    "#         info = self.image_info[image_id]\n",
    "#         image = np.ones([info['heighth'], info['width'], 3], dtype=np.uint8)\n",
    "#         for shape, dims in info['shapes']:\n",
    "#             image = self.draw_shape(image, shape, dims)\n",
    "#         return image\n",
    "#     def image_reference(self, image_id):\n",
    "#         \"\"\"Return the shapes data of the image.\"\"\"\n",
    "#         info = self.image_info[image_id]\n",
    "#         if info[\"source\"] == \"shapes\":\n",
    "#             return info[\"shapes\"]\n",
    "#         else:\n",
    "#             super(self.__class__).image_reference(self, image_id)\n",
    "#     def load_mask(self, image_id):\n",
    "#         \"\"\"Generate instance masks for shapes of the given image ID.\n",
    "#         \"\"\"\n",
    "#         info = self.image_info[image_id]\n",
    "#         shapes = info['shapes']\n",
    "#         count = len(shapes)\n",
    "#         mask = np.zeros([info['heighth'], info['width'], count], dtype=np.uint8)\n",
    "#         for i, (shape, dims) in enumerate(info['shapes']):\n",
    "#             mask[:, :, i:i+1] = self.draw_shape(mask[:, :, i:i+1].copy(),\n",
    "#                                                 shape, dims)\n",
    "#         #for i, (shape, dims) in enumerate(info['shapes']):\n",
    "#         #    mask[:, :] = self.draw_shape(mask[:, :].copy(),\n",
    "#         #                                        shape, dims)  \n",
    "#         # Handle occlusions\n",
    "#         occlusion = np.logical_not(mask[:, :, -1]).astype(np.uint8)\n",
    "#         for i in range(count-2, -1, -1):\n",
    "#             mask[:, :, i] = mask[:, :, i] * occlusion\n",
    "#             occlusion = np.logical_and(occlusion, np.logical_not(mask[:, :, i]))\n",
    "#         # Map class names to class IDs.\n",
    "#         class_ids = np.array([self.class_names.index(s[0]) for s in shapes])\n",
    "#         return mask.astype(np.bool), class_ids.astype(np.int32)\n",
    "#     def draw_shape(self, image, shape, dims):\n",
    "#         \"\"\"Draws a shape from the given specs.\"\"\"\n",
    "#         # Get the center x, y and the size s\n",
    "#         x, y, s = dims\n",
    "#         if shape == 'square':\n",
    "#             x=random.randint(5,width-5)\n",
    "#             y=random.randint(5,highth-5)\n",
    "#             s=random.randint(5,np.minimum(width-x,highth-y))\n",
    "#             cv2.rectangle(image, (x, y), (x+s, y+s), -1)\n",
    "#         elif shape == \"circle\":\n",
    "#             x=random.randint(5,width-5)\n",
    "#             y=random.randint(5,highth-5)\n",
    "#             s=random.randint(5,np.minimum(width-x,highth-y))\n",
    "#             cv2.circle(image, (x, y), s, -1)\n",
    "#         elif shape == \"triangle\":\n",
    "#             x=random.randint(0,width)\n",
    "#             y=random.randint(0,highth)\n",
    "#             s=random.randint(0,width)\n",
    "#             cv2.line(image,(x,y),(y,s),-1)\n",
    "#             cv2.line(image,(y,s),(s,x),-1)\n",
    "#             cv2.line(image,(s,x),(x,y),-1)\n",
    "#         elif shape == \"plus\":\n",
    "#             x=random.randint(5,width-5)\n",
    "#             y=random.randint(5,highth-5)\n",
    "#             s=random.randint(5,min(width-x,highth-y,2*y))\n",
    "#             cv2.line(image,(x,y),(x+s,y),-1)\n",
    "#             cv2.line(image,(int(x+s/2),int(y-s/2)),(int(x+s/2),int(y+s/2)),-1)\n",
    "#         elif shape == \"dot\":\n",
    "#             x=random.randint(5,width-5)\n",
    "#             y=random.randint(5,highth-5)\n",
    "#             s=random.randint(5,np.minimum(width-x,highth-y))\n",
    "#             s=random.randint(1,5)\n",
    "#             cv2.circle(image, (x, y), s,(0,0,255), -1)\n",
    "#         elif shape == \"curve\":\n",
    "#             a=random.randint(1,5)*0.1\n",
    "#             b=random.randint(5,width/2)\n",
    "#             c=random.randint(0,width-2*b)\n",
    "#             x=np.arange(width)\n",
    "#             y=np.sin(a*x)\n",
    "#             pts=[]\n",
    "#             if random.randint(1,2)==1:\n",
    "#                 for i in range (0,width):\n",
    "#                     pts.append([x[i],int(b*y[i]+b+c)])\n",
    "#             else:\n",
    "#                 for i in range (0,highth):\n",
    "#                     pts.append([int(b*y[i]+b+c),x[i]])\n",
    "#             line_width=random.randint(1,3)\n",
    "#             cv2.polylines(image, [np.array(pts)], False, (0,0,255),thickness=line_width, lineType=cv2.LINE_8)\n",
    "#         elif shape == \"line\":\n",
    "#             x=random.randint(5,width-5)\n",
    "#             y=random.randint(5,highth-5)\n",
    "#             s=random.randint(5,min(width-x,highth-y,2*y))\n",
    "#             if random.randint(1,2)==1:\n",
    "#                 cv2.line(image,(x,y),(x+s,y),-1)\n",
    "#             else:\n",
    "#                 cv2.line(image,(int(x+s/2),int(y-s/2)),(int(x+s/2),int(y+s/2)),-1)        \n",
    "#         return image\n",
    "#     def random_shape(self, height, width):\n",
    "#         \"\"\"Generates specifications of a random shape that lies within\n",
    "#         the given height and width boundaries.\n",
    "#         Returns a tuple of three valus:\n",
    "#         * The shape name (square, circle, ...)\n",
    "#         * Shape color: a tuple of 3 values, RGB.\n",
    "#         * Shape dimensions: A tuple of values that define the shape size\n",
    "#                             and location. Differs per shape type.\n",
    "#         \"\"\"\n",
    "#         # Shape\n",
    "#         shape = random.choice([\"square\", \"circle\", \"triangle\", \"line\", \"curve\", \"dot\", \"plus\"])\n",
    "#         # Color\n",
    "#         # Center x, y\n",
    "#         x=random.randint(5,width-5)\n",
    "#         y=random.randint(5,highth-5)\n",
    "#         s=random.randint(5,np.minimum(width-x,highth-y))\n",
    "#         return shape, (x, y, s)\n",
    "#     def random_image(self, height, width):\n",
    "#         \"\"\"Creates random specifications of an image with multiple shapes.\n",
    "#         Returns the background color of the image and a list of shape\n",
    "#         specifications that can be used to draw the image.\n",
    "#         \"\"\"\n",
    "#         # Pick random background color\n",
    "#         #bg_color = np.array([random.randint(0, 255) for _ in range(3)])\n",
    "#         # Generate a few random shapes and record their\n",
    "#         # bounding boxes\n",
    "#         shapes = []\n",
    "#         boxes = []\n",
    "#         N = random.randint(1, 4)\n",
    "#         for _ in range(N):\n",
    "#             shape, dims = self.random_shape(height, width)\n",
    "#             shapes.append((shape, dims))\n",
    "#             x, y, s = dims\n",
    "#             boxes.append([y-s, x-s, y+s, x+s])\n",
    "#         # Apply non-max suppression wit 0.3 threshold to avoid\n",
    "#         # shapes covering each other\n",
    "#         keep_ixs = utils.non_max_suppression(np.array(boxes), np.arange(N), 0.3)\n",
    "#         shapes = [s for i, s in enumerate(shapes) if i in keep_ixs]\n",
    "#         return shapes"
   ]
  },
  {
   "cell_type": "code",
   "execution_count": 17,
   "metadata": {},
   "outputs": [],
   "source": [
    "class ShapesDataset(utils.Dataset):\n",
    "    \"\"\"Generates the shapes synthetic dataset. The dataset consists of simple\n",
    "    shapes (triangles, squares, circles) placed randomly on a blank surface.\n",
    "    The images are generated on the fly. No file access required.\n",
    "    \"\"\"\n",
    "\n",
    "    def load_shapes(self, count, heighth, width):\n",
    "        \"\"\"Generate the requested number of synthetic images.\n",
    "        count: number of images to generate.\n",
    "        height, width: the size of the generated images.\n",
    "        \"\"\"\n",
    "        # Add classes\n",
    "        self.add_class(\"shapes\", 1, \"square\")\n",
    "        self.add_class(\"shapes\", 2, \"circle\")\n",
    "        self.add_class(\"shapes\", 3, \"triangle\")\n",
    "        self.add_class(\"shapes\", 4, \"plus\")\n",
    "        self.add_class(\"shapes\", 5, \"dot\")\n",
    "        self.add_class(\"shapes\", 6, \"curve\")  \n",
    "        self.add_class(\"shapes\", 7, \"line\") \n",
    "        \n",
    "        for i in range(count):\n",
    "            shapes = self.random_image(heighth, width)\n",
    "            self.add_image(\"shapes\", image_id=i, path=None,\n",
    "                   width=width, heighth=heighth, shapes=shapes)\n",
    "    def load_image(self, image_id):\n",
    "        \"\"\"Generate an image from the specs of the given image ID.\n",
    "        Typically this function loads the image from a file, but\n",
    "        in this case it generates the image on the fly from the\n",
    "        specs in image_info.\n",
    "        \"\"\"\n",
    "        info = self.image_info[image_id]\n",
    "        image = np.ones([info['heighth'], info['width'], 3], dtype=np.uint8)\n",
    "        for shape, dims in info['shapes']:\n",
    "            image = self.draw_shape(image, shape, dims)\n",
    "        return image\n",
    "    def image_reference(self, image_id):\n",
    "        \"\"\"Return the shapes data of the image.\"\"\"\n",
    "        info = self.image_info[image_id]\n",
    "        if info[\"source\"] == \"shapes\":\n",
    "            return info[\"shapes\"]\n",
    "        else:\n",
    "            super(self.__class__).image_reference(self, image_id)\n",
    "    def load_mask(self, image_id):\n",
    "        \"\"\"Generate instance masks for shapes of the given image ID.\n",
    "        \"\"\"\n",
    "        info = self.image_info[image_id]\n",
    "        #print(info['shapes'])\n",
    "        shapes = info['shapes']\n",
    "        count = len(shapes)\n",
    "        mask = np.ones([info['heighth'], info['width'], count], dtype=np.uint8)\n",
    "        for i, (shape, dims) in enumerate(info['shapes']):\n",
    "            mask[:, :, i:i+1] = self.draw_shape(mask[:, :, i:i+1].copy(),\n",
    "                                                shape, dims)\n",
    "        #for i, (shape, dims) in enumerate(info['shapes']):\n",
    "        #    mask[:, :] = self.draw_shape(mask[:, :].copy(),\n",
    "        #                                        shape, dims)  \n",
    "        # Handle occlusions\n",
    "        #occlusion = np.logical_not(mask[:, :, -1]).astype(np.uint8)\n",
    "        #for i in range(count-2, -1, -1):\n",
    "        #    mask[:, :, i] = mask[:, :, i] * occlusion\n",
    "        #    occlusion = np.logical_and(occlusion, np.logical_not(mask[:, :, i]))\n",
    "        # Map class names to class IDs.\n",
    "        class_ids = np.array([self.class_names.index(s[0]) for s in shapes])\n",
    "        #return mask.astype(np.bool), class_ids.astype(np.int32)\n",
    "        return mask, class_ids.astype(np.int32)\n",
    "    def draw_shape(self, image, shape, dims):\n",
    "        \"\"\"Draws a shape from the given specs.\"\"\"\n",
    "        # Get the center x, y and the size s\n",
    "        x, y, s = dims\n",
    "        if shape == 'square':\n",
    "            cv2.rectangle(image, (x, y), (x+s, y+s), -1)\n",
    "        elif shape == \"circle\":\n",
    "            cv2.circle(image, (x, y), s, -1)\n",
    "        elif shape == \"triangle\":\n",
    "            cv2.line(image,(x,y),(y,s),-1)\n",
    "            cv2.line(image,(y,s),(s,x),-1)\n",
    "            cv2.line(image,(s,x),(x,y),-1)\n",
    "        elif shape == \"plus\":\n",
    "            cv2.line(image,(x,y),(x+s,y),-1)\n",
    "            cv2.line(image,(int(x+s/2),int(y-s/2)),(int(x+s/2),int(y+s/2)),-1)\n",
    "        elif shape == \"dot\":\n",
    "            cv2.circle(image, (x, y), s,(0,0,255), -1)\n",
    "        elif shape == \"curve\":\n",
    "            a=np.arange(width)\n",
    "            b=np.sin(a*x)\n",
    "            pts=[]\n",
    "            if random.randint(1,2)==1:\n",
    "                for i in range (0,width):\n",
    "                    pts.append([a[i],int(y*b[i]+y+s)])\n",
    "            else:\n",
    "                for i in range (0,highth):\n",
    "                    pts.append([int(y*b[i]+y+s),a[i]])\n",
    "            line_width=random.randint(1,3)\n",
    "            cv2.polylines(image, [np.array(pts)], False, (0,0,255),thickness=line_width, lineType=cv2.LINE_8)\n",
    "        elif shape == \"line\":\n",
    "            if random.randint(1,2)==1:\n",
    "                cv2.line(image,(x,y),(x+s,y),-1)\n",
    "            else:\n",
    "                cv2.line(image,(int(x+s/2),int(y-s/2)),(int(x+s/2),int(y+s/2)),-1)        \n",
    "        return image\n",
    "    def random_shape(self, height, width):\n",
    "        \"\"\"Generates specifications of a random shape that lies within\n",
    "        the given height and width boundaries.\n",
    "        Returns a tuple of three valus:\n",
    "        * The shape name (square, circle, ...)\n",
    "        * Shape color: a tuple of 3 values, RGB.\n",
    "        * Shape dimensions: A tuple of values that define the shape size\n",
    "                            and location. Differs per shape type.\n",
    "        \"\"\"\n",
    "        # Shape\n",
    "        shape = random.choice([\"square\", \"circle\", \"triangle\", \"line\", \"curve\", \"dot\", \"plus\"])\n",
    "        # Color\n",
    "        # Center x, y\n",
    "        x=random.randint(5,width-5)\n",
    "        y=random.randint(5,highth-5)\n",
    "        s=random.randint(5,np.minimum(width-x,highth-y))\n",
    "        if shape == \"dot\":\n",
    "            s=random.randint(1,5)\n",
    "        elif shape == \"curve\":\n",
    "            x=random.randint(1,5)*0.1\n",
    "            y=random.randint(5,width/2)\n",
    "            s=random.randint(0,width-2*y)\n",
    "        return shape, (x, y, s)\n",
    "    def random_image(self, height, width):\n",
    "        \"\"\"Creates random specifications of an image with multiple shapes.\n",
    "        Returns the background color of the image and a list of shape\n",
    "        specifications that can be used to draw the image.\n",
    "        \"\"\"\n",
    "        # Pick random background color\n",
    "        #bg_color = np.array([random.randint(0, 255) for _ in range(3)])\n",
    "        # Generate a few random shapes and record their\n",
    "        # bounding boxes\n",
    "        shapes = []\n",
    "        boxes = []\n",
    "        N = random.randint(1, 4)\n",
    "        for _ in range(N):\n",
    "            shape, dims = self.random_shape(height, width)\n",
    "            shapes.append((shape, dims))\n",
    "            x, y, s = dims\n",
    "            boxes.append([y-s, x-s, y+s, x+s])\n",
    "        # Apply non-max suppression wit 0.3 threshold to avoid\n",
    "        # shapes covering each other\n",
    "        keep_ixs = utils.non_max_suppression(np.array(boxes), np.arange(N), 0.3)\n",
    "        shapes = [s for i, s in enumerate(shapes) if i in keep_ixs]\n",
    "        return shapes"
   ]
  },
  {
   "cell_type": "code",
   "execution_count": 9,
   "metadata": {},
   "outputs": [
    {
     "data": {
      "text/plain": [
       "array([0, 0, 0, ..., 0, 0, 0], dtype=uint8)"
      ]
     },
     "execution_count": 9,
     "metadata": {},
     "output_type": "execute_result"
    }
   ],
   "source": [
    "e=[('dot', (79, 47, 4)), ('curve', (0.2, 42, 6))]\n",
    "mask = np.ones([128, 128, 2], dtype=np.uint8)\n",
    "for i in range (1,len(e)):\n",
    "    mask[:, :, i:i+1] = draw_shape(mask[:, :, i:i+1].copy(),\n",
    "                                                    e[i][0], e[i][1])\n",
    "mask[mask!=1]"
   ]
  },
  {
   "cell_type": "code",
   "execution_count": 33,
   "metadata": {},
   "outputs": [
    {
     "data": {
      "text/plain": [
       "array([-1., -1., -1., -1., -1., -1., -1., -1., -1., -1., -1., -1., -1.,\n",
       "       -1., -1., -1., -1., -1., -1., -1.])"
      ]
     },
     "execution_count": 33,
     "metadata": {},
     "output_type": "execute_result"
    },
    {
     "data": {
      "image/png": "[encoded data removed]",
      "text/plain": [
       "<Figure size 432x288 with 1 Axes>"
      ]
     },
     "metadata": {
      "needs_background": "light"
     },
     "output_type": "display_data"
    }
   ],
   "source": [
    "width=100\n",
    "highth=100\n",
    "dims=[79, 47, 4]\n",
    "image = np.ones([highth,width])\n",
    "shape = 'circle'\n",
    "draw_shape(image,shape, dims)\n",
    "plt.imshow(image,cmap='gray')\n",
    "plt.axis('off')\n",
    "image[image!=1]"
   ]
  },
  {
   "cell_type": "code",
   "execution_count": 10,
   "metadata": {},
   "outputs": [
    {
     "data": {
      "text/plain": [
       "<matplotlib.image.AxesImage at 0x13a097b00>"
      ]
     },
     "execution_count": 10,
     "metadata": {},
     "output_type": "execute_result"
    },
    {
     "data": {
      "image/png": "[encoded data removed]",
      "text/plain": [
       "<Figure size 432x288 with 1 Axes>"
      ]
     },
     "metadata": {
      "needs_background": "light"
     },
     "output_type": "display_data"
    }
   ],
   "source": [
    "a=draw_shape(mask[:, :, i:i+1].copy(),'circle', [79, 47, 4])\n",
    "plt.imshow(a[:,:,0],cmap='gray')"
   ]
  },
  {
   "cell_type": "code",
   "execution_count": 129,
   "metadata": {},
   "outputs": [],
   "source": [
    "# Training dataset\n",
    "dataset_train = ShapesDataset()\n",
    "dataset_train.load_shapes(500, config.IMAGE_SHAPE[0], config.IMAGE_SHAPE[1])\n",
    "dataset_train.prepare()\n",
    "\n",
    "# Validation dataset\n",
    "dataset_val = ShapesDataset()\n",
    "dataset_val.load_shapes(50, config.IMAGE_SHAPE[0], config.IMAGE_SHAPE[1])\n",
    "dataset_val.prepare()"
   ]
  },
  {
   "cell_type": "code",
   "execution_count": 20,
   "metadata": {},
   "outputs": [
    {
     "data": {
      "text/plain": [
       "50"
      ]
     },
     "execution_count": 20,
     "metadata": {},
     "output_type": "execute_result"
    }
   ],
   "source": [
    "dataset_val.num_images"
   ]
  },
  {
   "cell_type": "code",
   "execution_count": 12,
   "metadata": {},
   "outputs": [
    {
     "data": {
      "text/plain": [
       "(128, 128, 3)"
      ]
     },
     "execution_count": 12,
     "metadata": {},
     "output_type": "execute_result"
    }
   ],
   "source": [
    "dataset_train.load_image(1).shape"
   ]
  },
  {
   "cell_type": "code",
   "execution_count": 13,
   "metadata": {},
   "outputs": [
    {
     "data": {
      "image/png": "[encoded data removed]",
      "text/plain": [
       "<Figure size 432x288 with 1 Axes>"
      ]
     },
     "metadata": {
      "needs_background": "light"
     },
     "output_type": "display_data"
    }
   ],
   "source": [
    "# Load and display random samples\n",
    "image_ids = np.random.choice(dataset_train.image_ids, 4)\n",
    "for image_id in image_ids:\n",
    "    image = dataset_train.load_image(image_id)\n",
    "    mask, class_ids = dataset_train.load_mask(image_id)\n",
    "    plt.imshow(dataset_train.load_image(0)[:,:,0],cmap='gray')\n",
    "    #visualize.display_top_masks(image, mask, class_ids, dataset_train.class_names)"
   ]
  },
  {
   "cell_type": "code",
   "execution_count": 14,
   "metadata": {},
   "outputs": [
    {
     "data": {
      "text/plain": [
       "(128, 128, 4)"
      ]
     },
     "execution_count": 14,
     "metadata": {},
     "output_type": "execute_result"
    }
   ],
   "source": [
    "mask.shape"
   ]
  },
  {
   "cell_type": "code",
   "execution_count": 15,
   "metadata": {},
   "outputs": [
    {
     "data": {
      "text/plain": [
       "array([1, 1, 1, ..., 1, 1, 1], dtype=uint8)"
      ]
     },
     "execution_count": 15,
     "metadata": {},
     "output_type": "execute_result"
    }
   ],
   "source": [
    "mask, class_ids = dataset_train.load_mask(image_id)\n",
    "mask[mask==True]"
   ]
  },
  {
   "cell_type": "code",
   "execution_count": 16,
   "metadata": {},
   "outputs": [
    {
     "data": {
      "image/png": "[encoded data removed]",
      "text/plain": [
       "<Figure size 1008x360 with 5 Axes>"
      ]
     },
     "metadata": {
      "needs_background": "light"
     },
     "output_type": "display_data"
    },
    {
     "data": {
      "image/png": "[encoded data removed]",
      "text/plain": [
       "<Figure size 1008x360 with 5 Axes>"
      ]
     },
     "metadata": {
      "needs_background": "light"
     },
     "output_type": "display_data"
    },
    {
     "data": {
      "image/png": "[encoded data removed]",
      "text/plain": [
       "<Figure size 1008x360 with 5 Axes>"
      ]
     },
     "metadata": {
      "needs_background": "light"
     },
     "output_type": "display_data"
    }
   ],
   "source": [
    "# Load and display random samples\n",
    "image_ids = np.random.choice(dataset_train.image_ids, 3)\n",
    "for image_id in image_ids:\n",
    "    image = dataset_train.load_image(image_id)\n",
    "    mask, class_ids = dataset_train.load_mask(image_id)\n",
    "    visualize.display_top_masks(image[:,:,0], mask, class_ids, dataset_train.class_names)"
   ]
  },
  {
   "cell_type": "code",
   "execution_count": 45,
   "metadata": {},
   "outputs": [
    {
     "name": "stdout",
     "output_type": "stream",
     "text": [
      "WARNING:tensorflow:From /Users/sofiadunlosky/miniconda3/envs/mlp/lib/python3.7/site-packages/tensorflow/python/framework/op_def_library.py:263: colocate_with (from tensorflow.python.framework.ops) is deprecated and will be removed in a future version.\n",
      "Instructions for updating:\n",
      "Colocations handled automatically by placer.\n"
     ]
    }
   ],
   "source": [
    "model = modellib.MaskRCNN(mode=\"training\", config=config,\n",
    "                          model_dir=MODEL_DIR)"
   ]
  },
  {
   "cell_type": "code",
   "execution_count": 25,
   "metadata": {},
   "outputs": [],
   "source": [
    "model = modellib.MaskRCNN(mode='training', config=config,\n",
    "                          model_dir=MODEL_DIR)"
   ]
  },
  {
   "cell_type": "code",
   "execution_count": 46,
   "metadata": {},
   "outputs": [],
   "source": [
    "# Which weights to start with?\n",
    "init_with = \"coco\"  # imagenet, coco, or last\n",
    "\n",
    "if init_with == \"imagenet\":\n",
    "    model.load_weights(model.get_imagenet_weights(), by_name=True)\n",
    "elif init_with == \"coco\":\n",
    "    # Load weights trained on MS COCO, but skip layers that\n",
    "    # are different due to the different number of classes\n",
    "    # See README for instructions to download the COCO weights\n",
    "    model.load_weights(COCO_MODEL_PATH, by_name=True,\n",
    "                       exclude=[\"mrcnn_class_logits\", \"mrcnn_bbox_fc\", \n",
    "                                \"mrcnn_bbox\", \"mrcnn_mask\"])\n",
    "elif init_with == \"last\":\n",
    "    # Load the last model you trained and continue training\n",
    "    model.load_weights(model.find_last(), by_name=True)"
   ]
  },
  {
   "cell_type": "code",
   "execution_count": 27,
   "metadata": {},
   "outputs": [
    {
     "name": "stdout",
     "output_type": "stream",
     "text": [
      "Re-starting from epoch 2\n"
     ]
    }
   ],
   "source": [
    "# Which weights to start with?\n",
    "init_with = \"last\"  # imagenet, coco, or last\n",
    "\n",
    "if init_with == \"imagenet\":\n",
    "    model.load_weights(model.get_imagenet_weights(), by_name=True)\n",
    "elif init_with == \"coco\":\n",
    "    # Load weights trained on MS COCO, but skip layers that\n",
    "    # are different due to the different number of classes\n",
    "    # See README for instructions to download the COCO weights\n",
    "    model.load_weights(COCO_MODEL_PATH, by_name=True,\n",
    "                       exclude=[\"mrcnn_class_logits\", \"mrcnn_bbox_fc\", \n",
    "                                \"mrcnn_bbox\", \"mrcnn_mask\"])\n",
    "elif init_with == \"last\":\n",
    "    # Load the last model you trained and continue training\n",
    "    #model.load_weights(model.find_last(), by_name=True)\n",
    "    model.load_weights('/Users/sofiadunlosky/Downloads/Mask_RCNN-master/logs/shapes20190516T1725/mask_rcnn_shapes_0002.h5')"
   ]
  },
  {
   "cell_type": "code",
   "execution_count": 28,
   "metadata": {},
   "outputs": [
    {
     "name": "stdout",
     "output_type": "stream",
     "text": [
      "\n",
      "Starting at epoch 2. LR=0.001\n",
      "\n",
      "Checkpoint Path: /Users/sofiadunlosky/Downloads/Mask_RCNN-master/logs/shapes20190516T1725/mask_rcnn_shapes_{epoch:04d}.h5\n",
      "Selecting layers to train\n",
      "fpn_c5p5               (Conv2D)\n",
      "fpn_c4p4               (Conv2D)\n",
      "fpn_c3p3               (Conv2D)\n",
      "fpn_c2p2               (Conv2D)\n",
      "fpn_p5                 (Conv2D)\n",
      "fpn_p2                 (Conv2D)\n",
      "fpn_p3                 (Conv2D)\n",
      "fpn_p4                 (Conv2D)\n",
      "In model:  rpn_model\n",
      "    rpn_conv_shared        (Conv2D)\n",
      "    rpn_class_raw          (Conv2D)\n",
      "    rpn_bbox_pred          (Conv2D)\n",
      "mrcnn_mask_conv1       (TimeDistributed)\n",
      "mrcnn_mask_bn1         (TimeDistributed)\n",
      "mrcnn_mask_conv2       (TimeDistributed)\n",
      "mrcnn_mask_bn2         (TimeDistributed)\n",
      "mrcnn_class_conv1      (TimeDistributed)\n",
      "mrcnn_class_bn1        (TimeDistributed)\n",
      "mrcnn_mask_conv3       (TimeDistributed)\n",
      "mrcnn_mask_bn3         (TimeDistributed)\n",
      "mrcnn_class_conv2      (TimeDistributed)\n",
      "mrcnn_class_bn2        (TimeDistributed)\n",
      "mrcnn_mask_conv4       (TimeDistributed)\n",
      "mrcnn_mask_bn4         (TimeDistributed)\n",
      "mrcnn_bbox_fc          (TimeDistributed)\n",
      "mrcnn_mask_deconv      (TimeDistributed)\n",
      "mrcnn_class_logits     (TimeDistributed)\n",
      "mrcnn_mask             (TimeDistributed)\n"
     ]
    }
   ],
   "source": [
    "# Train the head branches\n",
    "# Passing layers=\"heads\" freezes all layers except the head\n",
    "# layers. You can also pass a regular expression to select\n",
    "# which layers to train by name pattern.\n",
    "model.train(dataset_train, dataset_val, \n",
    "            learning_rate=config.LEARNING_RATE, \n",
    "            epochs=1, \n",
    "            layers='heads')"
   ]
  },
  {
   "cell_type": "code",
   "execution_count": 30,
   "metadata": {},
   "outputs": [
    {
     "name": "stdout",
     "output_type": "stream",
     "text": [
      "\n",
      "Starting at epoch 2. LR=0.0001\n",
      "\n",
      "Checkpoint Path: /Users/sofiadunlosky/Downloads/Mask_RCNN-master/logs/shapes20190516T1725/mask_rcnn_shapes_{epoch:04d}.h5\n",
      "Selecting layers to train\n",
      "conv1                  (Conv2D)\n",
      "bn_conv1               (BatchNorm)\n",
      "res2a_branch2a         (Conv2D)\n",
      "bn2a_branch2a          (BatchNorm)\n",
      "res2a_branch2b         (Conv2D)\n",
      "bn2a_branch2b          (BatchNorm)\n",
      "res2a_branch2c         (Conv2D)\n",
      "res2a_branch1          (Conv2D)\n",
      "bn2a_branch2c          (BatchNorm)\n",
      "bn2a_branch1           (BatchNorm)\n",
      "res2b_branch2a         (Conv2D)\n",
      "bn2b_branch2a          (BatchNorm)\n",
      "res2b_branch2b         (Conv2D)\n",
      "bn2b_branch2b          (BatchNorm)\n",
      "res2b_branch2c         (Conv2D)\n",
      "bn2b_branch2c          (BatchNorm)\n",
      "res2c_branch2a         (Conv2D)\n",
      "bn2c_branch2a          (BatchNorm)\n",
      "res2c_branch2b         (Conv2D)\n",
      "bn2c_branch2b          (BatchNorm)\n",
      "res2c_branch2c         (Conv2D)\n",
      "bn2c_branch2c          (BatchNorm)\n",
      "res3a_branch2a         (Conv2D)\n",
      "bn3a_branch2a          (BatchNorm)\n",
      "res3a_branch2b         (Conv2D)\n",
      "bn3a_branch2b          (BatchNorm)\n",
      "res3a_branch2c         (Conv2D)\n",
      "res3a_branch1          (Conv2D)\n",
      "bn3a_branch2c          (BatchNorm)\n",
      "bn3a_branch1           (BatchNorm)\n",
      "res3b_branch2a         (Conv2D)\n",
      "bn3b_branch2a          (BatchNorm)\n",
      "res3b_branch2b         (Conv2D)\n",
      "bn3b_branch2b          (BatchNorm)\n",
      "res3b_branch2c         (Conv2D)\n",
      "bn3b_branch2c          (BatchNorm)\n",
      "res3c_branch2a         (Conv2D)\n",
      "bn3c_branch2a          (BatchNorm)\n",
      "res3c_branch2b         (Conv2D)\n",
      "bn3c_branch2b          (BatchNorm)\n",
      "res3c_branch2c         (Conv2D)\n",
      "bn3c_branch2c          (BatchNorm)\n",
      "res3d_branch2a         (Conv2D)\n",
      "bn3d_branch2a          (BatchNorm)\n",
      "res3d_branch2b         (Conv2D)\n",
      "bn3d_branch2b          (BatchNorm)\n",
      "res3d_branch2c         (Conv2D)\n",
      "bn3d_branch2c          (BatchNorm)\n",
      "res4a_branch2a         (Conv2D)\n",
      "bn4a_branch2a          (BatchNorm)\n",
      "res4a_branch2b         (Conv2D)\n",
      "bn4a_branch2b          (BatchNorm)\n",
      "res4a_branch2c         (Conv2D)\n",
      "res4a_branch1          (Conv2D)\n",
      "bn4a_branch2c          (BatchNorm)\n",
      "bn4a_branch1           (BatchNorm)\n",
      "res4b_branch2a         (Conv2D)\n",
      "bn4b_branch2a          (BatchNorm)\n",
      "res4b_branch2b         (Conv2D)\n",
      "bn4b_branch2b          (BatchNorm)\n",
      "res4b_branch2c         (Conv2D)\n",
      "bn4b_branch2c          (BatchNorm)\n",
      "res4c_branch2a         (Conv2D)\n",
      "bn4c_branch2a          (BatchNorm)\n",
      "res4c_branch2b         (Conv2D)\n",
      "bn4c_branch2b          (BatchNorm)\n",
      "res4c_branch2c         (Conv2D)\n",
      "bn4c_branch2c          (BatchNorm)\n",
      "res4d_branch2a         (Conv2D)\n",
      "bn4d_branch2a          (BatchNorm)\n",
      "res4d_branch2b         (Conv2D)\n",
      "bn4d_branch2b          (BatchNorm)\n",
      "res4d_branch2c         (Conv2D)\n",
      "bn4d_branch2c          (BatchNorm)\n",
      "res4e_branch2a         (Conv2D)\n",
      "bn4e_branch2a          (BatchNorm)\n",
      "res4e_branch2b         (Conv2D)\n",
      "bn4e_branch2b          (BatchNorm)\n",
      "res4e_branch2c         (Conv2D)\n",
      "bn4e_branch2c          (BatchNorm)\n",
      "res4f_branch2a         (Conv2D)\n",
      "bn4f_branch2a          (BatchNorm)\n",
      "res4f_branch2b         (Conv2D)\n",
      "bn4f_branch2b          (BatchNorm)\n",
      "res4f_branch2c         (Conv2D)\n",
      "bn4f_branch2c          (BatchNorm)\n",
      "res4g_branch2a         (Conv2D)\n",
      "bn4g_branch2a          (BatchNorm)\n",
      "res4g_branch2b         (Conv2D)\n",
      "bn4g_branch2b          (BatchNorm)\n",
      "res4g_branch2c         (Conv2D)\n",
      "bn4g_branch2c          (BatchNorm)\n",
      "res4h_branch2a         (Conv2D)\n",
      "bn4h_branch2a          (BatchNorm)\n",
      "res4h_branch2b         (Conv2D)\n",
      "bn4h_branch2b          (BatchNorm)\n",
      "res4h_branch2c         (Conv2D)\n",
      "bn4h_branch2c          (BatchNorm)\n",
      "res4i_branch2a         (Conv2D)\n",
      "bn4i_branch2a          (BatchNorm)\n",
      "res4i_branch2b         (Conv2D)\n",
      "bn4i_branch2b          (BatchNorm)\n",
      "res4i_branch2c         (Conv2D)\n",
      "bn4i_branch2c          (BatchNorm)\n",
      "res4j_branch2a         (Conv2D)\n",
      "bn4j_branch2a          (BatchNorm)\n",
      "res4j_branch2b         (Conv2D)\n",
      "bn4j_branch2b          (BatchNorm)\n",
      "res4j_branch2c         (Conv2D)\n",
      "bn4j_branch2c          (BatchNorm)\n",
      "res4k_branch2a         (Conv2D)\n",
      "bn4k_branch2a          (BatchNorm)\n",
      "res4k_branch2b         (Conv2D)\n",
      "bn4k_branch2b          (BatchNorm)\n",
      "res4k_branch2c         (Conv2D)\n",
      "bn4k_branch2c          (BatchNorm)\n",
      "res4l_branch2a         (Conv2D)\n",
      "bn4l_branch2a          (BatchNorm)\n",
      "res4l_branch2b         (Conv2D)\n",
      "bn4l_branch2b          (BatchNorm)\n",
      "res4l_branch2c         (Conv2D)\n",
      "bn4l_branch2c          (BatchNorm)\n",
      "res4m_branch2a         (Conv2D)\n",
      "bn4m_branch2a          (BatchNorm)\n",
      "res4m_branch2b         (Conv2D)\n",
      "bn4m_branch2b          (BatchNorm)\n",
      "res4m_branch2c         (Conv2D)\n",
      "bn4m_branch2c          (BatchNorm)\n",
      "res4n_branch2a         (Conv2D)\n",
      "bn4n_branch2a          (BatchNorm)\n",
      "res4n_branch2b         (Conv2D)\n",
      "bn4n_branch2b          (BatchNorm)\n",
      "res4n_branch2c         (Conv2D)\n",
      "bn4n_branch2c          (BatchNorm)\n",
      "res4o_branch2a         (Conv2D)\n",
      "bn4o_branch2a          (BatchNorm)\n",
      "res4o_branch2b         (Conv2D)\n",
      "bn4o_branch2b          (BatchNorm)\n",
      "res4o_branch2c         (Conv2D)\n",
      "bn4o_branch2c          (BatchNorm)\n",
      "res4p_branch2a         (Conv2D)\n",
      "bn4p_branch2a          (BatchNorm)\n",
      "res4p_branch2b         (Conv2D)\n",
      "bn4p_branch2b          (BatchNorm)\n",
      "res4p_branch2c         (Conv2D)\n",
      "bn4p_branch2c          (BatchNorm)\n",
      "res4q_branch2a         (Conv2D)\n",
      "bn4q_branch2a          (BatchNorm)\n",
      "res4q_branch2b         (Conv2D)\n",
      "bn4q_branch2b          (BatchNorm)\n",
      "res4q_branch2c         (Conv2D)\n",
      "bn4q_branch2c          (BatchNorm)\n",
      "res4r_branch2a         (Conv2D)\n",
      "bn4r_branch2a          (BatchNorm)\n",
      "res4r_branch2b         (Conv2D)\n",
      "bn4r_branch2b          (BatchNorm)\n",
      "res4r_branch2c         (Conv2D)\n",
      "bn4r_branch2c          (BatchNorm)\n",
      "res4s_branch2a         (Conv2D)\n",
      "bn4s_branch2a          (BatchNorm)\n",
      "res4s_branch2b         (Conv2D)\n",
      "bn4s_branch2b          (BatchNorm)\n",
      "res4s_branch2c         (Conv2D)\n",
      "bn4s_branch2c          (BatchNorm)\n",
      "res4t_branch2a         (Conv2D)\n",
      "bn4t_branch2a          (BatchNorm)\n",
      "res4t_branch2b         (Conv2D)\n",
      "bn4t_branch2b          (BatchNorm)\n",
      "res4t_branch2c         (Conv2D)\n",
      "bn4t_branch2c          (BatchNorm)\n",
      "res4u_branch2a         (Conv2D)\n",
      "bn4u_branch2a          (BatchNorm)\n",
      "res4u_branch2b         (Conv2D)\n",
      "bn4u_branch2b          (BatchNorm)\n",
      "res4u_branch2c         (Conv2D)\n",
      "bn4u_branch2c          (BatchNorm)\n",
      "res4v_branch2a         (Conv2D)\n",
      "bn4v_branch2a          (BatchNorm)\n",
      "res4v_branch2b         (Conv2D)\n",
      "bn4v_branch2b          (BatchNorm)\n",
      "res4v_branch2c         (Conv2D)\n",
      "bn4v_branch2c          (BatchNorm)\n",
      "res4w_branch2a         (Conv2D)\n",
      "bn4w_branch2a          (BatchNorm)\n",
      "res4w_branch2b         (Conv2D)\n",
      "bn4w_branch2b          (BatchNorm)\n",
      "res4w_branch2c         (Conv2D)\n",
      "bn4w_branch2c          (BatchNorm)\n",
      "res5a_branch2a         (Conv2D)\n",
      "bn5a_branch2a          (BatchNorm)\n",
      "res5a_branch2b         (Conv2D)\n",
      "bn5a_branch2b          (BatchNorm)\n",
      "res5a_branch2c         (Conv2D)\n",
      "res5a_branch1          (Conv2D)\n",
      "bn5a_branch2c          (BatchNorm)\n",
      "bn5a_branch1           (BatchNorm)\n",
      "res5b_branch2a         (Conv2D)\n",
      "bn5b_branch2a          (BatchNorm)\n",
      "res5b_branch2b         (Conv2D)\n",
      "bn5b_branch2b          (BatchNorm)\n",
      "res5b_branch2c         (Conv2D)\n",
      "bn5b_branch2c          (BatchNorm)\n",
      "res5c_branch2a         (Conv2D)\n",
      "bn5c_branch2a          (BatchNorm)\n",
      "res5c_branch2b         (Conv2D)\n",
      "bn5c_branch2b          (BatchNorm)\n",
      "res5c_branch2c         (Conv2D)\n",
      "bn5c_branch2c          (BatchNorm)\n",
      "fpn_c5p5               (Conv2D)\n",
      "fpn_c4p4               (Conv2D)\n",
      "fpn_c3p3               (Conv2D)\n",
      "fpn_c2p2               (Conv2D)\n",
      "fpn_p5                 (Conv2D)\n",
      "fpn_p2                 (Conv2D)\n",
      "fpn_p3                 (Conv2D)\n",
      "fpn_p4                 (Conv2D)\n",
      "In model:  rpn_model\n",
      "    rpn_conv_shared        (Conv2D)\n",
      "    rpn_class_raw          (Conv2D)\n",
      "    rpn_bbox_pred          (Conv2D)\n",
      "mrcnn_mask_conv1       (TimeDistributed)\n",
      "mrcnn_mask_bn1         (TimeDistributed)\n",
      "mrcnn_mask_conv2       (TimeDistributed)\n",
      "mrcnn_mask_bn2         (TimeDistributed)\n",
      "mrcnn_class_conv1      (TimeDistributed)\n",
      "mrcnn_class_bn1        (TimeDistributed)\n",
      "mrcnn_mask_conv3       (TimeDistributed)\n",
      "mrcnn_mask_bn3         (TimeDistributed)\n",
      "mrcnn_class_conv2      (TimeDistributed)\n",
      "mrcnn_class_bn2        (TimeDistributed)\n",
      "mrcnn_mask_conv4       (TimeDistributed)\n",
      "mrcnn_mask_bn4         (TimeDistributed)\n",
      "mrcnn_bbox_fc          (TimeDistributed)\n",
      "mrcnn_mask_deconv      (TimeDistributed)\n",
      "mrcnn_class_logits     (TimeDistributed)\n",
      "mrcnn_mask             (TimeDistributed)\n",
      "Epoch 3/3\n",
      "100/100 [==============================] - 6165s 62s/step - loss: 0.1932 - rpn_class_loss: 3.9957e-04 - rpn_bbox_loss: 0.0015 - mrcnn_class_loss: 0.0623 - mrcnn_bbox_loss: 0.0025 - mrcnn_mask_loss: 0.1264 - val_loss: 0.2328 - val_rpn_class_loss: 4.9602e-04 - val_rpn_bbox_loss: 0.0012 - val_mrcnn_class_loss: 0.0616 - val_mrcnn_bbox_loss: 0.0024 - val_mrcnn_mask_loss: 0.1671\n"
     ]
    }
   ],
   "source": [
    "# Fine tune all layers\n",
    "# Passing layers=\"all\" trains all layers. You can also \n",
    "# pass a regular expression to select which layers to\n",
    "# train by name pattern.\n",
    "model.train(dataset_train, dataset_val, \n",
    "            learning_rate=config.LEARNING_RATE / 10,\n",
    "            epochs=3, \n",
    "            layers=\"all\")"
   ]
  },
  {
   "cell_type": "code",
   "execution_count": 5,
   "metadata": {},
   "outputs": [
    {
     "name": "stdout",
     "output_type": "stream",
     "text": [
      "WARNING:tensorflow:From /Users/sofiadunlosky/miniconda3/envs/mlp/lib/python3.7/site-packages/tensorflow/python/framework/op_def_library.py:263: colocate_with (from tensorflow.python.framework.ops) is deprecated and will be removed in a future version.\n",
      "Instructions for updating:\n",
      "Colocations handled automatically by placer.\n",
      "WARNING:tensorflow:From /Users/sofiadunlosky/Downloads/Mask_RCNN-master/mrcnn/model.py:772: to_float (from tensorflow.python.ops.math_ops) is deprecated and will be removed in a future version.\n",
      "Instructions for updating:\n",
      "Use tf.cast instead.\n",
      "Re-starting from epoch 2\n"
     ]
    }
   ],
   "source": [
    "class InferenceConfig(ShapesConfig):\n",
    "    GPU_COUNT = 1\n",
    "    IMAGES_PER_GPU = 1\n",
    "\n",
    "inference_config = InferenceConfig()\n",
    "\n",
    "# Recreate the model in inference mode\n",
    "model = modellib.MaskRCNN(mode=\"inference\", \n",
    "                          config=inference_config,\n",
    "                          model_dir=MODEL_DIR)\n",
    "\n",
    "# Get path to saved weights\n",
    "# Either set a specific path or find last trained weights\n",
    "# model_path = os.path.join(ROOT_DIR, \".h5 file name here\")\n",
    "#model_path = model.find_last()\n",
    "model.load_weights('/Users/sofiadunlosky/Downloads/Mask_RCNN-master/logs/shapes20190516T1725/mask_rcnn_shapes_0002.h5', by_name=True)\n",
    "# Load trained weights\n",
    "#print(\"Loading weights from \", model_path)\n",
    "#model.load_weights(model_path, by_name=True)"
   ]
  },
  {
   "cell_type": "code",
   "execution_count": 52,
   "metadata": {},
   "outputs": [],
   "source": [
    "gt_mask=np.logical_not(gt_mask).astype(np.bool)"
   ]
  },
  {
   "cell_type": "code",
   "execution_count": 12,
   "metadata": {},
   "outputs": [
    {
     "data": {
      "text/plain": [
       "(128, 128, 16)"
      ]
     },
     "execution_count": 12,
     "metadata": {},
     "output_type": "execute_result"
    }
   ],
   "source": [
    "pic.shape"
   ]
  },
  {
   "cell_type": "code",
   "execution_count": 21,
   "metadata": {},
   "outputs": [],
   "source": [
    "def D():\n",
    "    def load_shapes(self, count, heighth, width):\n",
    "        \"\"\"Generate the requested number of synthetic images.\n",
    "        count: number of images to generate.\n",
    "        height, width: the size of the generated images.\n",
    "        \"\"\"\n",
    "        # Add classes\n",
    "        self.add_class(\"shapes\", 1, \"square\")\n",
    "        self.add_class(\"shapes\", 2, \"circle\")\n",
    "        self.add_class(\"shapes\", 3, \"triangle\")\n",
    "        self.add_class(\"shapes\", 4, \"plus\")\n",
    "        self.add_class(\"shapes\", 5, \"dot\")\n",
    "        self.add_class(\"shapes\", 6, \"curve\")  \n",
    "        self.add_class(\"shapes\", 7, \"line\") \n",
    "        \n",
    "        for i in range(count):\n",
    "            if count < 16:\n",
    "                shapes = pic[:,:,count-1]\n",
    "            else:\n",
    "                shapes = pic[:,:,random.randint(0,15)]\n",
    "            self.add_image(\"shapes\", image_id=i, path=None,\n",
    "                   width=width, heighth=heighth, shapes=shapes)\n",
    "    return shapes\n",
    "\n",
    "# Validation dataset\n",
    "dataset_val = ShapesDataset()\n",
    "dataset_val.load_shapes(50, config.IMAGE_SHAPE[0], config.IMAGE_SHAPE[1])\n",
    "dataset_val.prepare()"
   ]
  },
  {
   "cell_type": "code",
   "execution_count": 29,
   "metadata": {},
   "outputs": [],
   "source": [
    "p=[pic[:,:,0],pic[:,:,0],pic[:,:,0],pic[:,:,0],pic[:,:,0],pic[:,:,0],pic[:,:,0],pic[:,:,0],pic[:,:,0],pic[:,:,0],pic[:,:,0],pic[:,:,0],pic[:,:,0],pic[:,:,0],pic[:,:,0],pic[:,:,0],pic[:,:,0],pic[:,:,0],pic[:,:,0],pic[:,:,0],pic[:,:,0],pic[:,:,0],pic[:,:,0],pic[:,:,0],pic[:,:,0],pic[:,:,0],pic[:,:,0],pic[:,:,0],pic[:,:,0],pic[:,:,0],pic[:,:,0],pic[:,:,0],pic[:,:,0],pic[:,:,0],pic[:,:,0],pic[:,:,0],pic[:,:,0],pic[:,:,0],pic[:,:,0],pic[:,:,0],pic[:,:,0],pic[:,:,0],pic[:,:,0],pic[:,:,0],pic[:,:,0],pic[:,:,0],pic[:,:,0],pic[:,:,0],pic[:,:,0],pic[:,:,0]]"
   ]
  },
  {
   "cell_type": "code",
   "execution_count": 33,
   "metadata": {},
   "outputs": [
    {
     "data": {
      "text/plain": [
       "1"
      ]
     },
     "execution_count": 33,
     "metadata": {},
     "output_type": "execute_result"
    }
   ],
   "source": [
    "model.config.BATCH_SIZE"
   ]
  },
  {
   "cell_type": "code",
   "execution_count": 131,
   "metadata": {},
   "outputs": [
    {
     "data": {
      "text/plain": [
       "array([[[1, 1, 1],\n",
       "        [1, 1, 1],\n",
       "        [1, 1, 1],\n",
       "        ...,\n",
       "        [1, 1, 1],\n",
       "        [1, 1, 1],\n",
       "        [1, 1, 1]],\n",
       "\n",
       "       [[1, 1, 1],\n",
       "        [1, 1, 1],\n",
       "        [1, 1, 1],\n",
       "        ...,\n",
       "        [1, 1, 1],\n",
       "        [1, 1, 1],\n",
       "        [1, 1, 1]],\n",
       "\n",
       "       [[1, 1, 1],\n",
       "        [1, 1, 1],\n",
       "        [1, 1, 1],\n",
       "        ...,\n",
       "        [1, 1, 1],\n",
       "        [1, 1, 1],\n",
       "        [1, 1, 1]],\n",
       "\n",
       "       ...,\n",
       "\n",
       "       [[1, 1, 1],\n",
       "        [1, 1, 1],\n",
       "        [1, 1, 1],\n",
       "        ...,\n",
       "        [1, 1, 1],\n",
       "        [1, 1, 1],\n",
       "        [1, 1, 1]],\n",
       "\n",
       "       [[1, 1, 1],\n",
       "        [1, 1, 1],\n",
       "        [1, 1, 1],\n",
       "        ...,\n",
       "        [1, 1, 1],\n",
       "        [1, 1, 1],\n",
       "        [1, 1, 1]],\n",
       "\n",
       "       [[1, 1, 1],\n",
       "        [1, 1, 1],\n",
       "        [1, 1, 1],\n",
       "        ...,\n",
       "        [1, 1, 1],\n",
       "        [1, 1, 1],\n",
       "        [1, 1, 1]]], dtype=uint8)"
      ]
     },
     "execution_count": 131,
     "metadata": {},
     "output_type": "execute_result"
    }
   ],
   "source": [
    "dataset_train.load_image(11)"
   ]
  },
  {
   "cell_type": "code",
   "execution_count": 109,
   "metadata": {},
   "outputs": [
    {
     "data": {
      "text/plain": [
       "[{'rois': array([], shape=(0, 4), dtype=int32),\n",
       "  'class_ids': array([], dtype=int32),\n",
       "  'scores': array([], dtype=float32),\n",
       "  'masks': array([], shape=(128, 128, 0), dtype=float64)}]"
      ]
     },
     "execution_count": 109,
     "metadata": {},
     "output_type": "execute_result"
    }
   ],
   "source": [
    "model.detect([dataset_train.load_image(11)])"
   ]
  },
  {
   "cell_type": "code",
   "execution_count": 46,
   "metadata": {},
   "outputs": [
    {
     "data": {
      "text/plain": [
       "[{'rois': array([], shape=(0, 4), dtype=int32),\n",
       "  'class_ids': array([], dtype=int32),\n",
       "  'scores': array([], dtype=float32),\n",
       "  'masks': array([], shape=(128, 128, 0), dtype=float64)}]"
      ]
     },
     "execution_count": 46,
     "metadata": {},
     "output_type": "execute_result"
    }
   ],
   "source": [
    "b=np.load('b.npy')\n",
    "for i in range(0,3):\n",
    "    p[:,:,i]=b[:,:]\n",
    "model.detect([p])"
   ]
  },
  {
   "cell_type": "code",
   "execution_count": 132,
   "metadata": {},
   "outputs": [],
   "source": [
    "pic[pic==255]=1\n",
    "pic[pic!=1]=0"
   ]
  },
  {
   "cell_type": "code",
   "execution_count": 137,
   "metadata": {},
   "outputs": [],
   "source": [
    "pic=np.load('pic410.npy')\n",
    "pic[pic!=255]\n",
    "pic[pic>200]=1\n",
    "pic[pic!=1]=0"
   ]
  },
  {
   "cell_type": "code",
   "execution_count": 138,
   "metadata": {},
   "outputs": [
    {
     "data": {
      "text/plain": [
       "<matplotlib.image.AxesImage at 0x143a2f6d8>"
      ]
     },
     "execution_count": 138,
     "metadata": {},
     "output_type": "execute_result"
    },
    {
     "data": {
      "image/png": "[encoded data removed]",
      "text/plain": [
       "<Figure size 432x288 with 1 Axes>"
      ]
     },
     "metadata": {
      "needs_background": "light"
     },
     "output_type": "display_data"
    }
   ],
   "source": [
    "plt.imshow(pic[:,:,0])"
   ]
  },
  {
   "cell_type": "code",
   "execution_count": 139,
   "metadata": {
    "scrolled": false
   },
   "outputs": [
    {
     "name": "stdout",
     "output_type": "stream",
     "text": [
      "[{'rois': array([], shape=(0, 4), dtype=int32), 'class_ids': array([], dtype=int32), 'scores': array([], dtype=float32), 'masks': array([], shape=(128, 128, 0), dtype=float64)}]\n",
      "[{'rois': array([], shape=(0, 4), dtype=int32), 'class_ids': array([], dtype=int32), 'scores': array([], dtype=float32), 'masks': array([], shape=(128, 128, 0), dtype=float64)}]\n",
      "[{'rois': array([], shape=(0, 4), dtype=int32), 'class_ids': array([], dtype=int32), 'scores': array([], dtype=float32), 'masks': array([], shape=(128, 128, 0), dtype=float64)}]\n"
     ]
    }
   ],
   "source": [
    "#pic=np.load('pic410.npy')\n",
    "p=np.zeros((128,128,3))\n",
    "for n in range(0,3):\n",
    "    for i in range(0,3):\n",
    "        p[:,:,i]=pic[:,:,n]\n",
    "    print(model.detect([p]))\n",
    "\n"
   ]
  },
  {
   "cell_type": "code",
   "execution_count": 53,
   "metadata": {
    "scrolled": true
   },
   "outputs": [
    {
     "name": "stdout",
     "output_type": "stream",
     "text": [
      "original_image           shape: (128, 128, 3)         min:    0.00000  max:  255.00000  uint8\n",
      "image_meta               shape: (20,)                 min:    0.00000  max:  128.00000  int64\n",
      "gt_class_id              shape: (4,)                  min:    3.00000  max:    7.00000  int32\n",
      "gt_bbox                  shape: (4, 4)                min:    0.00000  max:  128.00000  int32\n",
      "gt_mask                  shape: (128, 128, 4)         min:    0.00000  max:    1.00000  uint8\n"
     ]
    },
    {
     "data": {
      "image/png": "[encoded data removed]",
      "text/plain": [
       "<Figure size 576x576 with 1 Axes>"
      ]
     },
     "metadata": {
      "needs_background": "light"
     },
     "output_type": "display_data"
    }
   ],
   "source": [
    "# Test on a random image\n",
    "image_id = random.choice(dataset_val.image_ids)\n",
    "original_image, image_meta, gt_class_id, gt_bbox, gt_mask =\\\n",
    "    modellib.load_image_gt(dataset_val, inference_config, \n",
    "                           image_id, use_mini_mask=False)\n",
    "\n",
    "log(\"original_image\", original_image)\n",
    "log(\"image_meta\", image_meta)\n",
    "log(\"gt_class_id\", gt_class_id)\n",
    "log(\"gt_bbox\", gt_bbox)\n",
    "log(\"gt_mask\", gt_mask)\n",
    "gt_mask=np.logical_not(gt_mask).astype(np.bool)\n",
    "visualize.display_instances(original_image, gt_bbox, gt_mask, gt_class_id, \n",
    "                            dataset_train.class_names, figsize=(8, 8))"
   ]
  },
  {
   "cell_type": "code",
   "execution_count": null,
   "metadata": {},
   "outputs": [],
   "source": []
  },
  {
   "cell_type": "code",
   "execution_count": 56,
   "metadata": {},
   "outputs": [
    {
     "data": {
      "text/plain": [
       "(array([12, 13, 13, 13, 13, 13, 14, 14, 14, 14, 14, 15, 15, 15, 15, 15, 15,\n",
       "        15, 16, 16, 16, 16, 16, 17, 17, 17, 17, 17, 18]),\n",
       " array([37, 35, 36, 37, 38, 39, 35, 36, 37, 38, 39, 34, 35, 36, 37, 38, 39,\n",
       "        40, 35, 36, 37, 38, 39, 35, 36, 37, 38, 39, 37]))"
      ]
     },
     "execution_count": 56,
     "metadata": {},
     "output_type": "execute_result"
    }
   ],
   "source": [
    "np.where(gt_mask[:,:,0]!=0)"
   ]
  },
  {
   "cell_type": "code",
   "execution_count": 41,
   "metadata": {},
   "outputs": [
    {
     "name": "stdout",
     "output_type": "stream",
     "text": [
      "mAP:  0.0\n"
     ]
    }
   ],
   "source": [
    "# Compute VOC-Style mAP @ IoU=0.5\n",
    "# Running on 10 images. Increase for better accuracy.\n",
    "image_ids = np.random.choice(dataset_val.image_ids, 10)\n",
    "APs = []\n",
    "for image_id in image_ids:\n",
    "    # Load image and ground truth data\n",
    "    image, image_meta, gt_class_id, gt_bbox, gt_mask =\\\n",
    "        modellib.load_image_gt(dataset_val, inference_config,\n",
    "                               image_id, use_mini_mask=False)\n",
    "    molded_images = np.expand_dims(modellib.mold_image(image, inference_config), 0)\n",
    "    # Run object detection\n",
    "    results = model.detect([image], verbose=0)\n",
    "    r = results[0]\n",
    "    # Compute AP\n",
    "    AP, precisions, recalls, overlaps =\\\n",
    "        utils.compute_ap(gt_bbox, gt_class_id, gt_mask,\n",
    "                         r[\"rois\"], r[\"class_ids\"], r[\"scores\"], r['masks'])\n",
    "    APs.append(AP)\n",
    "    \n",
    "print(\"mAP: \", np.mean(APs))"
   ]
  },
  {
   "cell_type": "code",
   "execution_count": null,
   "metadata": {},
   "outputs": [],
   "source": []
  }
 ],
 "metadata": {
  "kernelspec": {
   "display_name": "Python 3",
   "language": "python",
   "name": "python3"
  },
  "language_info": {
   "codemirror_mode": {
    "name": "ipython",
    "version": 3
   },
   "file_extension": ".py",
   "mimetype": "text/x-python",
   "name": "python",
   "nbconvert_exporter": "python",
   "pygments_lexer": "ipython3",
   "version": "3.7.2"
  }
 },
 "nbformat": 4,
 "nbformat_minor": 2
}
